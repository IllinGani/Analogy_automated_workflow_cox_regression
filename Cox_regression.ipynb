{
 "cells": [
  {
   "cell_type": "code",
   "execution_count": 10,
   "id": "a61513e0-c74e-4e7e-80e6-fcef104c038b",
   "metadata": {},
   "outputs": [],
   "source": [
    "import numpy as np\n",
    "import pandas as pd\n",
    "from lifelines import CoxPHFitter\n",
    "import matplotlib.pyplot as plt"
   ]
  },
  {
   "cell_type": "code",
   "execution_count": 17,
   "id": "d664e9c5-7210-4477-bdc2-58206d59dd59",
   "metadata": {},
   "outputs": [],
   "source": [
    "source_path = r\"K:\\Research Data\\Research Data Storage (BEAR-RDS)\\2017\\gokhalkm-dexter-aces\\Nissy\\GBVDepressionIllinv120240406052514\\GBVDepressionIllinv120240406052514.csv\"\n",
    "columns = ['EXPOSED', 'O.M.DEPRESSION_BIRM_GBV:0', 'O.M.PY.DEPRESSION_BIRM_GBV:0']\n",
    "df_base = pd.read_csv(source_path, usecols=columns)"
   ]
  },
  {
   "cell_type": "code",
   "execution_count": 18,
   "id": "76545a91-f023-43e3-9942-900afc427959",
   "metadata": {},
   "outputs": [
    {
     "name": "stdout",
     "output_type": "stream",
     "text": [
      "2540316\n"
     ]
    }
   ],
   "source": [
    "print(len(df_base))"
   ]
  },
  {
   "cell_type": "code",
   "execution_count": 19,
   "id": "c727f080-cf90-4849-bdb6-eaa76d9893ca",
   "metadata": {},
   "outputs": [
    {
     "data": {
      "text/html": [
       "<div>\n",
       "<style scoped>\n",
       "    .dataframe tbody tr th:only-of-type {\n",
       "        vertical-align: middle;\n",
       "    }\n",
       "\n",
       "    .dataframe tbody tr th {\n",
       "        vertical-align: top;\n",
       "    }\n",
       "\n",
       "    .dataframe thead th {\n",
       "        text-align: right;\n",
       "    }\n",
       "</style>\n",
       "<table border=\"1\" class=\"dataframe\">\n",
       "  <thead>\n",
       "    <tr style=\"text-align: right;\">\n",
       "      <th></th>\n",
       "      <th>EXPOSED</th>\n",
       "      <th>O.M.DEPRESSION_BIRM_GBV:0</th>\n",
       "      <th>O.M.PY.DEPRESSION_BIRM_GBV:0</th>\n",
       "    </tr>\n",
       "  </thead>\n",
       "  <tbody>\n",
       "    <tr>\n",
       "      <th>0</th>\n",
       "      <td>1</td>\n",
       "      <td>0</td>\n",
       "      <td>0.13142</td>\n",
       "    </tr>\n",
       "    <tr>\n",
       "      <th>1</th>\n",
       "      <td>0</td>\n",
       "      <td>0</td>\n",
       "      <td>14.42026</td>\n",
       "    </tr>\n",
       "    <tr>\n",
       "      <th>2</th>\n",
       "      <td>1</td>\n",
       "      <td>0</td>\n",
       "      <td>11.40589</td>\n",
       "    </tr>\n",
       "    <tr>\n",
       "      <th>3</th>\n",
       "      <td>0</td>\n",
       "      <td>0</td>\n",
       "      <td>13.63176</td>\n",
       "    </tr>\n",
       "    <tr>\n",
       "      <th>4</th>\n",
       "      <td>0</td>\n",
       "      <td>0</td>\n",
       "      <td>7.16769</td>\n",
       "    </tr>\n",
       "  </tbody>\n",
       "</table>\n",
       "</div>"
      ],
      "text/plain": [
       "   EXPOSED  O.M.DEPRESSION_BIRM_GBV:0  O.M.PY.DEPRESSION_BIRM_GBV:0\n",
       "0        1                          0                       0.13142\n",
       "1        0                          0                      14.42026\n",
       "2        1                          0                      11.40589\n",
       "3        0                          0                      13.63176\n",
       "4        0                          0                       7.16769"
      ]
     },
     "execution_count": 19,
     "metadata": {},
     "output_type": "execute_result"
    }
   ],
   "source": [
    "df_base.head(5)"
   ]
  },
  {
   "cell_type": "code",
   "execution_count": 20,
   "id": "a6a9ccc4-7599-48aa-a229-a4e59a5d627f",
   "metadata": {},
   "outputs": [
    {
     "data": {
      "text/plain": [
       "(2540316, 3)"
      ]
     },
     "execution_count": 20,
     "metadata": {},
     "output_type": "execute_result"
    }
   ],
   "source": [
    "df_base.shape"
   ]
  },
  {
   "cell_type": "code",
   "execution_count": 21,
   "id": "938be70b-3858-4353-b74f-578db18d5442",
   "metadata": {},
   "outputs": [
    {
     "data": {
      "text/plain": [
       "EXPOSED                           int64\n",
       "O.M.DEPRESSION_BIRM_GBV:0         int64\n",
       "O.M.PY.DEPRESSION_BIRM_GBV:0    float64\n",
       "dtype: object"
      ]
     },
     "execution_count": 21,
     "metadata": {},
     "output_type": "execute_result"
    }
   ],
   "source": [
    "df_base.dtypes"
   ]
  },
  {
   "cell_type": "code",
   "execution_count": 23,
   "id": "82ba48f0-bd55-423b-b195-4b885a6d6cc4",
   "metadata": {},
   "outputs": [],
   "source": [
    "df_base.dropna(inplace=True)"
   ]
  },
  {
   "cell_type": "code",
   "execution_count": 24,
   "id": "d5941f19-6a88-4d7b-98c5-7ed8e74b3ae2",
   "metadata": {},
   "outputs": [
    {
     "data": {
      "text/plain": [
       "EXPOSED                         0\n",
       "O.M.DEPRESSION_BIRM_GBV:0       0\n",
       "O.M.PY.DEPRESSION_BIRM_GBV:0    0\n",
       "dtype: int64"
      ]
     },
     "execution_count": 24,
     "metadata": {},
     "output_type": "execute_result"
    }
   ],
   "source": [
    "df_base.isnull().sum()"
   ]
  },
  {
   "cell_type": "code",
   "execution_count": 25,
   "id": "70119328-92a5-47f2-81c8-39c484966a6a",
   "metadata": {},
   "outputs": [
    {
     "data": {
      "text/html": [
       "<div>\n",
       "<style scoped>\n",
       "    .dataframe tbody tr th:only-of-type {\n",
       "        vertical-align: middle;\n",
       "    }\n",
       "\n",
       "    .dataframe tbody tr th {\n",
       "        vertical-align: top;\n",
       "    }\n",
       "\n",
       "    .dataframe thead th {\n",
       "        text-align: right;\n",
       "    }\n",
       "</style>\n",
       "<table border=\"1\" class=\"dataframe\">\n",
       "  <tbody>\n",
       "    <tr>\n",
       "      <th>model</th>\n",
       "      <td>lifelines.CoxPHFitter</td>\n",
       "    </tr>\n",
       "    <tr>\n",
       "      <th>duration col</th>\n",
       "      <td>'O.M.PY.DEPRESSION_BIRM_GBV:0'</td>\n",
       "    </tr>\n",
       "    <tr>\n",
       "      <th>event col</th>\n",
       "      <td>'O.M.DEPRESSION_BIRM_GBV:0'</td>\n",
       "    </tr>\n",
       "    <tr>\n",
       "      <th>baseline estimation</th>\n",
       "      <td>breslow</td>\n",
       "    </tr>\n",
       "    <tr>\n",
       "      <th>number of observations</th>\n",
       "      <td>2.54032e+06</td>\n",
       "    </tr>\n",
       "    <tr>\n",
       "      <th>number of events observed</th>\n",
       "      <td>273945</td>\n",
       "    </tr>\n",
       "    <tr>\n",
       "      <th>partial log-likelihood</th>\n",
       "      <td>-3819239.78</td>\n",
       "    </tr>\n",
       "    <tr>\n",
       "      <th>time fit was run</th>\n",
       "      <td>2024-11-18 18:05:24 UTC</td>\n",
       "    </tr>\n",
       "  </tbody>\n",
       "</table>\n",
       "</div><table border=\"1\" class=\"dataframe\">\n",
       "  <thead>\n",
       "    <tr style=\"text-align: right;\">\n",
       "      <th style=\"min-width: 12px;\"></th>\n",
       "      <th style=\"min-width: 12px;\">coef</th>\n",
       "      <th style=\"min-width: 12px;\">exp(coef)</th>\n",
       "      <th style=\"min-width: 12px;\">se(coef)</th>\n",
       "      <th style=\"min-width: 12px;\">coef lower 95%</th>\n",
       "      <th style=\"min-width: 12px;\">coef upper 95%</th>\n",
       "      <th style=\"min-width: 12px;\">exp(coef) lower 95%</th>\n",
       "      <th style=\"min-width: 12px;\">exp(coef) upper 95%</th>\n",
       "      <th style=\"min-width: 12px;\">cmp to</th>\n",
       "      <th style=\"min-width: 12px;\">z</th>\n",
       "      <th style=\"min-width: 12px;\">p</th>\n",
       "      <th style=\"min-width: 12px;\">-log2(p)</th>\n",
       "    </tr>\n",
       "  </thead>\n",
       "  <tbody>\n",
       "    <tr>\n",
       "      <th>EXPOSED</th>\n",
       "      <td>1.13</td>\n",
       "      <td>3.10</td>\n",
       "      <td>0.00</td>\n",
       "      <td>1.12</td>\n",
       "      <td>1.14</td>\n",
       "      <td>3.08</td>\n",
       "      <td>3.12</td>\n",
       "      <td>0.00</td>\n",
       "      <td>293.65</td>\n",
       "      <td>&lt;0.005</td>\n",
       "      <td>inf</td>\n",
       "    </tr>\n",
       "  </tbody>\n",
       "</table><br><div>\n",
       "<style scoped>\n",
       "    .dataframe tbody tr th:only-of-type {\n",
       "        vertical-align: middle;\n",
       "    }\n",
       "\n",
       "    .dataframe tbody tr th {\n",
       "        vertical-align: top;\n",
       "    }\n",
       "\n",
       "    .dataframe thead th {\n",
       "        text-align: right;\n",
       "    }\n",
       "</style>\n",
       "<table border=\"1\" class=\"dataframe\">\n",
       "  <tbody>\n",
       "    <tr>\n",
       "      <th>Concordance</th>\n",
       "      <td>0.64</td>\n",
       "    </tr>\n",
       "    <tr>\n",
       "      <th>Partial AIC</th>\n",
       "      <td>7638481.56</td>\n",
       "    </tr>\n",
       "    <tr>\n",
       "      <th>log-likelihood ratio test</th>\n",
       "      <td>79145.13 on 1 df</td>\n",
       "    </tr>\n",
       "    <tr>\n",
       "      <th>-log2(p) of ll-ratio test</th>\n",
       "      <td>inf</td>\n",
       "    </tr>\n",
       "  </tbody>\n",
       "</table>\n",
       "</div>"
      ],
      "text/latex": [
       "\\begin{tabular}{lrrrrrrrrrrr}\n",
       " & coef & exp(coef) & se(coef) & coef lower 95% & coef upper 95% & exp(coef) lower 95% & exp(coef) upper 95% & cmp to & z & p & -log2(p) \\\\\n",
       "covariate &  &  &  &  &  &  &  &  &  &  &  \\\\\n",
       "EXPOSED & 1.13 & 3.10 & 0.00 & 1.12 & 1.14 & 3.08 & 3.12 & 0.00 & 293.65 & 0.00 & inf \\\\\n",
       "\\end{tabular}\n"
      ],
      "text/plain": [
       "<lifelines.CoxPHFitter: fitted with 2.54032e+06 total observations, 2.26637e+06 right-censored observations>\n",
       "             duration col = 'O.M.PY.DEPRESSION_BIRM_GBV:0'\n",
       "                event col = 'O.M.DEPRESSION_BIRM_GBV:0'\n",
       "      baseline estimation = breslow\n",
       "   number of observations = 2.54032e+06\n",
       "number of events observed = 273945\n",
       "   partial log-likelihood = -3819239.78\n",
       "         time fit was run = 2024-11-18 18:05:24 UTC\n",
       "\n",
       "---\n",
       "           coef exp(coef)  se(coef)  coef lower 95%  coef upper 95% exp(coef) lower 95% exp(coef) upper 95%\n",
       "covariate                                                                                                  \n",
       "EXPOSED    1.13      3.10      0.00            1.12            1.14                3.08                3.12\n",
       "\n",
       "           cmp to      z      p  -log2(p)\n",
       "covariate                                \n",
       "EXPOSED      0.00 293.65 <0.005       inf\n",
       "---\n",
       "Concordance = 0.64\n",
       "Partial AIC = 7638481.56\n",
       "log-likelihood ratio test = 79145.13 on 1 df\n",
       "-log2(p) of ll-ratio test = inf"
      ]
     },
     "metadata": {},
     "output_type": "display_data"
    }
   ],
   "source": [
    "cph = CoxPHFitter()\n",
    "cph.fit(df_base, duration_col='O.M.PY.DEPRESSION_BIRM_GBV:0', event_col='O.M.DEPRESSION_BIRM_GBV:0', formula='EXPOSED')\n",
    "cph.print_summary()\n"
   ]
  },
  {
   "cell_type": "code",
   "execution_count": 26,
   "id": "1b42469c-cce0-4b56-8055-daf811ebd2f8",
   "metadata": {},
   "outputs": [
    {
     "data": {
      "text/plain": [
       "<Axes: xlabel='log(HR) (95% CI)'>"
      ]
     },
     "execution_count": 26,
     "metadata": {},
     "output_type": "execute_result"
    },
    {
     "data": {
      "image/png": "[encoded data removed]",
      "text/plain": [
       "<Figure size 1000x600 with 1 Axes>"
      ]
     },
     "metadata": {},
     "output_type": "display_data"
    }
   ],
   "source": [
    "plt.subplots(figsize = (10, 6))\n",
    "cph.plot()"
   ]
  },
  {
   "cell_type": "code",
   "execution_count": 28,
   "id": "c070e23e-21a4-4c52-9c7a-8af4871a666b",
   "metadata": {},
   "outputs": [
    {
     "name": "stdout",
     "output_type": "stream",
     "text": [
      "The ``p_value_threshold`` is set at 0.05. Even under the null hypothesis of no violations, some\n",
      "covariates will be below the threshold by chance. This is compounded when there are many covariates.\n",
      "Similarly, when there are lots of observations, even minor deviances from the proportional hazard\n",
      "assumption will be flagged.\n",
      "\n",
      "With that in mind, it's best to use a combination of statistical tests and visual tests to determine\n",
      "the most serious violations. Produce visual plots using ``check_assumptions(..., show_plots=True)``\n",
      "and looking for non-constant lines. See link [A] below for a full example.\n",
      "\n"
     ]
    },
    {
     "data": {
      "text/html": [
       "<div>\n",
       "<style scoped>\n",
       "    .dataframe tbody tr th:only-of-type {\n",
       "        vertical-align: middle;\n",
       "    }\n",
       "\n",
       "    .dataframe tbody tr th {\n",
       "        vertical-align: top;\n",
       "    }\n",
       "\n",
       "    .dataframe thead th {\n",
       "        text-align: right;\n",
       "    }\n",
       "</style>\n",
       "<table border=\"1\" class=\"dataframe\">\n",
       "  <tbody>\n",
       "    <tr>\n",
       "      <th>null_distribution</th>\n",
       "      <td>chi squared</td>\n",
       "    </tr>\n",
       "    <tr>\n",
       "      <th>degrees_of_freedom</th>\n",
       "      <td>1</td>\n",
       "    </tr>\n",
       "    <tr>\n",
       "      <th>model</th>\n",
       "      <td>&lt;lifelines.CoxPHFitter: fitted with 2.54032e+0...</td>\n",
       "    </tr>\n",
       "    <tr>\n",
       "      <th>test_name</th>\n",
       "      <td>proportional_hazard_test</td>\n",
       "    </tr>\n",
       "  </tbody>\n",
       "</table>\n",
       "</div><table border=\"1\" class=\"dataframe\">\n",
       "  <thead>\n",
       "    <tr style=\"text-align: right;\">\n",
       "      <th></th>\n",
       "      <th></th>\n",
       "      <th>test_statistic</th>\n",
       "      <th>p</th>\n",
       "      <th>-log2(p)</th>\n",
       "    </tr>\n",
       "  </thead>\n",
       "  <tbody>\n",
       "    <tr>\n",
       "      <th rowspan=\"2\" valign=\"top\">EXPOSED</th>\n",
       "      <th>km</th>\n",
       "      <td>4316.27</td>\n",
       "      <td>&lt;0.005</td>\n",
       "      <td>inf</td>\n",
       "    </tr>\n",
       "    <tr>\n",
       "      <th>rank</th>\n",
       "      <td>5660.76</td>\n",
       "      <td>&lt;0.005</td>\n",
       "      <td>inf</td>\n",
       "    </tr>\n",
       "  </tbody>\n",
       "</table>"
      ],
      "text/latex": [
       "\\begin{tabular}{llrrr}\n",
       " &  & test_statistic & p & -log2(p) \\\\\n",
       "\\multirow[c]{2}{*}{EXPOSED} & km & 4316.27 & 0.00 & inf \\\\\n",
       " & rank & 5660.76 & 0.00 & inf \\\\\n",
       "\\end{tabular}\n"
      ],
      "text/plain": [
       "<lifelines.StatisticalResult: proportional_hazard_test>\n",
       " null_distribution = chi squared\n",
       "degrees_of_freedom = 1\n",
       "             model = <lifelines.CoxPHFitter: fitted with 2.54032e+06 total observations, 2.26637e+06 right-censored observations>\n",
       "         test_name = proportional_hazard_test\n",
       "\n",
       "---\n",
       "              test_statistic      p  -log2(p)\n",
       "EXPOSED km           4316.27 <0.005       inf\n",
       "        rank         5660.76 <0.005       inf"
      ]
     },
     "metadata": {},
     "output_type": "display_data"
    },
    {
     "name": "stdout",
     "output_type": "stream",
     "text": [
      "\n",
      "\n",
      "1. Variable 'EXPOSED' failed the non-proportional test: p-value is <5e-05.\n",
      "\n",
      "   Advice: with so few unique values (only 2), you can include `strata=['EXPOSED', ...]` in the call\n",
      "in `.fit`. See documentation in link [E] below.\n",
      "\n",
      "---\n",
      "[A]  https://lifelines.readthedocs.io/en/latest/jupyter_notebooks/Proportional%20hazard%20assumption.html\n",
      "[B]  https://lifelines.readthedocs.io/en/latest/jupyter_notebooks/Proportional%20hazard%20assumption.html#Bin-variable-and-stratify-on-it\n",
      "[C]  https://lifelines.readthedocs.io/en/latest/jupyter_notebooks/Proportional%20hazard%20assumption.html#Introduce-time-varying-covariates\n",
      "[D]  https://lifelines.readthedocs.io/en/latest/jupyter_notebooks/Proportional%20hazard%20assumption.html#Modify-the-functional-form\n",
      "[E]  https://lifelines.readthedocs.io/en/latest/jupyter_notebooks/Proportional%20hazard%20assumption.html#Stratification\n",
      "\n"
     ]
    },
    {
     "data": {
      "text/plain": [
       "[]"
      ]
     },
     "execution_count": 28,
     "metadata": {},
     "output_type": "execute_result"
    }
   ],
   "source": [
    "cph.check_assumptions(df_base, p_value_threshold = 0.05)"
   ]
  },
  {
   "cell_type": "code",
   "execution_count": null,
   "id": "28c41aaa-aeef-4568-a31a-f0f97b6aef33",
   "metadata": {},
   "outputs": [],
   "source": []
  }
 ],
 "metadata": {
  "kernelspec": {
   "display_name": "Python 3 (ipykernel)",
   "language": "python",
   "name": "python3"
  },
  "language_info": {
   "codemirror_mode": {
    "name": "ipython",
    "version": 3
   },
   "file_extension": ".py",
   "mimetype": "text/x-python",
   "name": "python",
   "nbconvert_exporter": "python",
   "pygments_lexer": "ipython3",
   "version": "3.12.6"
  }
 },
 "nbformat": 4,
 "nbformat_minor": 5
}
